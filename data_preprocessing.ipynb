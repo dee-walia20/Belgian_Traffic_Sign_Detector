{
 "cells": [
  {
   "cell_type": "code",
   "execution_count": 1,
   "metadata": {},
   "outputs": [],
   "source": [
    "import os\n",
    "import skimage.io as sk\n",
    "import skimage.transform as trf\n",
    "import numpy as np"
   ]
  },
  {
   "cell_type": "code",
   "execution_count": 2,
   "metadata": {},
   "outputs": [],
   "source": [
    "def load_data(data_dir):\n",
    "    directories = [d for d in os.listdir(data_dir) if os.path.isdir(os.path.join(data_dir,d))]\n",
    "    \n",
    "    labels = []\n",
    "    images = []\n",
    "    \n",
    "    for d in directories:\n",
    "        label_dir = os.path.join(data_dir,d)\n",
    "        filenames = [os.path.join(label_dir,f) for f in os.listdir(label_dir) if f.endswith(\".ppm\")]\n",
    "        \n",
    "        for f in filenames:\n",
    "            images.append(sk.imread(f))\n",
    "            labels.append(int(d))\n",
    "    return images, labels"
   ]
  },
  {
   "cell_type": "code",
   "execution_count": 3,
   "metadata": {},
   "outputs": [],
   "source": [
    "root_path=r'C:\\Users\\deewa\\Desktop\\Deep Learning Class\\DL Basics\\Project files'"
   ]
  },
  {
   "cell_type": "code",
   "execution_count": 4,
   "metadata": {},
   "outputs": [],
   "source": [
    "train_dir = os.path.join(root_path,\"Training\")\n",
    "test_dir = os.path.join(root_path, \"Testing\")"
   ]
  },
  {
   "cell_type": "code",
   "execution_count": 5,
   "metadata": {},
   "outputs": [],
   "source": [
    "images, labels = load_data(train_dir)"
   ]
  },
  {
   "cell_type": "code",
   "execution_count": 7,
   "metadata": {},
   "outputs": [
    {
     "name": "stdout",
     "output_type": "stream",
     "text": [
      "[[[210 249 232]\n",
      "  [204 249 208]\n",
      "  [197 198 155]\n",
      "  ...\n",
      "  [ 51  60  40]\n",
      "  [ 54  64  44]\n",
      "  [ 57  66  46]]\n",
      "\n",
      " [[209 250 236]\n",
      "  [212 255 217]\n",
      "  [200 196 156]\n",
      "  ...\n",
      "  [ 49  57  38]\n",
      "  [ 51  59  41]\n",
      "  [ 53  60  42]]\n",
      "\n",
      " [[203 246 236]\n",
      "  [207 246 213]\n",
      "  [202 192 156]\n",
      "  ...\n",
      "  [ 47  53  35]\n",
      "  [ 48  54  36]\n",
      "  [ 48  55  37]]\n",
      "\n",
      " ...\n",
      "\n",
      " [[  2  22  25]\n",
      "  [ 26  56  77]\n",
      "  [ 71 140 159]\n",
      "  ...\n",
      "  [ 84  77  50]\n",
      "  [ 68  66  41]\n",
      "  [ 56  64  44]]\n",
      "\n",
      " [[  0  22  32]\n",
      "  [ 30  75 106]\n",
      "  [ 87 176 198]\n",
      "  ...\n",
      "  [ 86  80  52]\n",
      "  [ 68  66  41]\n",
      "  [ 55  63  42]]\n",
      "\n",
      " [[  0  32  50]\n",
      "  [ 42 101 135]\n",
      "  [121 217 239]\n",
      "  ...\n",
      "  [ 87  80  52]\n",
      "  [ 70  68  43]\n",
      "  [ 58  66  46]]]\n"
     ]
    }
   ],
   "source": [
    "print(images[0])"
   ]
  },
  {
   "cell_type": "code",
   "execution_count": 8,
   "metadata": {},
   "outputs": [],
   "source": [
    "processed_train_img = [trf.resize(image, output_shape=(64,64), mode='constant') for image in images]"
   ]
  },
  {
   "cell_type": "code",
   "execution_count": 9,
   "metadata": {},
   "outputs": [
    {
     "data": {
      "text/plain": [
       "array([[[0.70190861, 0.82538153, 0.72547823],\n",
       "        [0.65350509, 0.53167318, 0.38627595],\n",
       "        [0.51020747, 0.39330241, 0.25058211],\n",
       "        ...,\n",
       "        [0.17519579, 0.18775707, 0.12559408],\n",
       "        [0.1743188 , 0.19825368, 0.13079044],\n",
       "        [0.17266918, 0.200978  , 0.13811035]],\n",
       "\n",
       "       [[0.73299632, 0.85369083, 0.77270939],\n",
       "        [0.69163603, 0.53203412, 0.39500613],\n",
       "        [0.48066789, 0.3629902 , 0.21881127],\n",
       "        ...,\n",
       "        [0.17966213, 0.21041667, 0.13648897],\n",
       "        [0.17984978, 0.20351084, 0.13346498],\n",
       "        [0.16574755, 0.18804429, 0.12328431]],\n",
       "\n",
       "       [[0.74409898, 0.84167193, 0.763523  ],\n",
       "        [0.65041935, 0.49889706, 0.35643909],\n",
       "        [0.49674958, 0.34441971, 0.21221996],\n",
       "        ...,\n",
       "        [0.19996793, 0.23936744, 0.16467381],\n",
       "        [0.2       , 0.23002978, 0.16078431],\n",
       "        [0.1823223 , 0.20431985, 0.14224877]],\n",
       "\n",
       "       ...,\n",
       "\n",
       "       [[0.08177754, 0.07697945, 0.03699113],\n",
       "        [0.05230928, 0.13474983, 0.16441196],\n",
       "        [0.29456045, 0.46043917, 0.44055559],\n",
       "        ...,\n",
       "        [0.29301471, 0.54622875, 0.60624856],\n",
       "        [0.35736347, 0.39624215, 0.30148112],\n",
       "        [0.24871324, 0.24613971, 0.17063084]],\n",
       "\n",
       "       [[0.07642511, 0.15285405, 0.17566971],\n",
       "        [0.26642588, 0.51512331, 0.55688764],\n",
       "        [0.88102644, 0.970335  , 0.95934149],\n",
       "        ...,\n",
       "        [0.2655733 , 0.5194537 , 0.58367992],\n",
       "        [0.37676116, 0.42097072, 0.32212584],\n",
       "        [0.23918505, 0.24129902, 0.15760522]],\n",
       "\n",
       "       [[0.09320332, 0.24375239, 0.32214595],\n",
       "        [0.46314913, 0.81322141, 0.84670075],\n",
       "        [0.83505333, 0.8546224 , 0.85399098],\n",
       "        ...,\n",
       "        [0.26128361, 0.50225232, 0.5630261 ],\n",
       "        [0.32203537, 0.36903483, 0.27719152],\n",
       "        [0.21975146, 0.22597321, 0.14429668]]])"
      ]
     },
     "execution_count": 9,
     "metadata": {},
     "output_type": "execute_result"
    }
   ],
   "source": [
    "processed_train_img[0]"
   ]
  },
  {
   "cell_type": "code",
   "execution_count": 10,
   "metadata": {},
   "outputs": [
    {
     "data": {
      "text/plain": [
       "(4575, 64, 64, 3)"
      ]
     },
     "execution_count": 10,
     "metadata": {},
     "output_type": "execute_result"
    }
   ],
   "source": [
    "np.shape(processed_train_img)"
   ]
  },
  {
   "cell_type": "code",
   "execution_count": 11,
   "metadata": {},
   "outputs": [],
   "source": [
    "np.save(open('train_images_numpy.npy','wb'), processed_train_img)\n",
    "np.save(open('train_labels_numpy.npy','wb'), labels)"
   ]
  },
  {
   "cell_type": "code",
   "execution_count": 12,
   "metadata": {},
   "outputs": [
    {
     "data": {
      "image/png": "[encoded data removed]",
      "text/plain": [
       "<Figure size 432x288 with 1 Axes>"
      ]
     },
     "metadata": {
      "needs_background": "light"
     },
     "output_type": "display_data"
    }
   ],
   "source": [
    "import matplotlib.pyplot as plt\n",
    "plt.imshow(processed_train_img[1020])\n",
    "plt.show()"
   ]
  },
  {
   "cell_type": "code",
   "execution_count": 13,
   "metadata": {},
   "outputs": [],
   "source": [
    "images, labels = load_data(test_dir)\n",
    "processed_test_img = [trf.resize(image, output_shape=(64,64), mode='constant') for image in images]"
   ]
  },
  {
   "cell_type": "code",
   "execution_count": 14,
   "metadata": {},
   "outputs": [],
   "source": [
    "np.save(open('test_images_numpy.npy','wb'), processed_test_img)\n",
    "np.save(open('test_labels_numpy.npy','wb'), labels)"
   ]
  },
  {
   "cell_type": "code",
   "execution_count": null,
   "metadata": {},
   "outputs": [],
   "source": []
  }
 ],
 "metadata": {
  "kernelspec": {
   "display_name": "Python 3",
   "language": "python",
   "name": "python3"
  },
  "language_info": {
   "codemirror_mode": {
    "name": "ipython",
    "version": 3
   },
   "file_extension": ".py",
   "mimetype": "text/x-python",
   "name": "python",
   "nbconvert_exporter": "python",
   "pygments_lexer": "ipython3",
   "version": "3.7.7"
  }
 },
 "nbformat": 4,
 "nbformat_minor": 4
}
